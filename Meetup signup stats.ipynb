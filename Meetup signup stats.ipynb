{
 "cells": [
  {
   "cell_type": "code",
   "execution_count": null,
   "metadata": {
    "collapsed": false
   },
   "outputs": [],
   "source": [
    "# %matplotlib \n",
    "import json\n",
    "import datetime\n",
    "import seaborn as sns\n",
    "import numpy as np\n",
    "import matplotlib.pyplot as plt\n",
    "import matplotlib.patches as mpatches\n",
    "import urllib, json"
   ]
  },
  {
   "cell_type": "code",
   "execution_count": null,
   "metadata": {
    "collapsed": true
   },
   "outputs": [],
   "source": [
    "API_KEY = ''\n",
    "meetup_group = 'central_london_data_science'\n",
    "max_event_count = 100\n",
    "max_per_page = 200"
   ]
  },
  {
   "cell_type": "code",
   "execution_count": null,
   "metadata": {
    "collapsed": false
   },
   "outputs": [],
   "source": [
    "def get_json_from_meetup_api(url):\n",
    "    full_url = url + '&key=' + API_KEY\n",
    "    response = urllib.urlopen(full_url)\n",
    "    return json.loads(response.read())\n",
    "\n",
    "def get_members(group_name, offset = 0):\n",
    "    print group_name, offset\n",
    "    url = ('https://api.meetup.com/2/members?&sign=true&photo-host=public&group_urlname='\n",
    "           +group_name\n",
    "           +'&page='\n",
    "           +str(max_per_page)\n",
    "           +'&offset='\n",
    "           +str(offset))\n",
    "    return get_json_from_meetup_api(url)\n",
    "\n",
    "def get_events(group_name):\n",
    "    url = ('https://api.meetup.com/2/events?&sign=true&photo-host=public&group_urlname='\n",
    "           +group_name\n",
    "           +'&status=past,upcoming&page='\n",
    "           +str(max_event_count))\n",
    "    return get_json_from_meetup_api(url)\n",
    "\n",
    "def get_group_info(group_name):\n",
    "    url = 'https://api.meetup.com/'+group_name+'?&sign=true&photo-host=public'\n",
    "    return get_json_from_meetup_api(url)\n",
    "\n",
    "def get_all_members(group_name, count):\n",
    "    loops = count/max_per_page\n",
    "    extra_loop = count%max_per_page is not 0\n",
    "    tota_loops = loops + extra_loop\n",
    "    print (tota_loops +' request(s) being made')\n",
    "    store_members = []\n",
    "    for i in range(tota_loops):\n",
    "        current_get = get_members(group_name, offset = i)\n",
    "        store_members += current_get['results']\n",
    "    return store_members\n",
    "\n",
    "def get_epoc_in_days_since(start_epoc, end_epoc):\n",
    "    start = datetime.datetime.fromtimestamp(start_epoc/1000)\n",
    "    end = datetime.datetime.fromtimestamp(end_epoc/1000)\n",
    "    return (end - start).days"
   ]
  },
  {
   "cell_type": "code",
   "execution_count": null,
   "metadata": {
    "collapsed": false
   },
   "outputs": [],
   "source": [
    "group_info = get_group_info(meetup_group)"
   ]
  },
  {
   "cell_type": "code",
   "execution_count": null,
   "metadata": {
    "collapsed": false
   },
   "outputs": [],
   "source": [
    "group_start =  datetime.datetime.fromtimestamp(group_info['created']/1000)\n",
    "group_start"
   ]
  },
  {
   "cell_type": "code",
   "execution_count": null,
   "metadata": {
    "collapsed": false
   },
   "outputs": [],
   "source": [
    "group_age = (datetime.datetime.now() -  group_start).days\n",
    "group_age"
   ]
  },
  {
   "cell_type": "code",
   "execution_count": null,
   "metadata": {
    "collapsed": false
   },
   "outputs": [],
   "source": [
    "group_info['members']"
   ]
  },
  {
   "cell_type": "code",
   "execution_count": null,
   "metadata": {
    "collapsed": false,
    "scrolled": true
   },
   "outputs": [],
   "source": [
    "all_member_data = get_all_members(meetup_group, group_info['members'])"
   ]
  },
  {
   "cell_type": "code",
   "execution_count": null,
   "metadata": {
    "collapsed": false
   },
   "outputs": [],
   "source": [
    "len(all_member_data)"
   ]
  },
  {
   "cell_type": "code",
   "execution_count": null,
   "metadata": {
    "collapsed": false
   },
   "outputs": [],
   "source": [
    "all_member_data[0]['joined']"
   ]
  },
  {
   "cell_type": "code",
   "execution_count": null,
   "metadata": {
    "collapsed": false
   },
   "outputs": [],
   "source": [
    "group_info['members']"
   ]
  },
  {
   "cell_type": "code",
   "execution_count": null,
   "metadata": {
    "collapsed": false
   },
   "outputs": [],
   "source": [
    "# get date joined in days resolution\n",
    "dateJoined = [x[\"joined\"]/1000 for x in all_member_data if 'joined' in x.keys()]"
   ]
  },
  {
   "cell_type": "code",
   "execution_count": null,
   "metadata": {
    "collapsed": false
   },
   "outputs": [],
   "source": [
    "len(dateJoined)"
   ]
  },
  {
   "cell_type": "code",
   "execution_count": null,
   "metadata": {
    "collapsed": false
   },
   "outputs": [],
   "source": [
    "epochs = sorted(dateJoined)\n",
    "when_people_joined = [datetime.datetime.fromtimestamp(x) for x in epochs]"
   ]
  },
  {
   "cell_type": "code",
   "execution_count": null,
   "metadata": {
    "collapsed": false,
    "scrolled": true
   },
   "outputs": [],
   "source": [
    "len(sorted(when_people_joined))"
   ]
  },
  {
   "cell_type": "code",
   "execution_count": null,
   "metadata": {
    "collapsed": true
   },
   "outputs": [],
   "source": [
    "running_total_of_members = []\n",
    "for i in range(group_age):\n",
    "    sum_to_day = len([j for j in when_people_joined if (datetime.datetime.now()-j).days <= i])\n",
    "    running_total_of_members.append(sum_to_day)"
   ]
  },
  {
   "cell_type": "code",
   "execution_count": null,
   "metadata": {
    "collapsed": false
   },
   "outputs": [],
   "source": [
    "eventData = get_events(meetup_group)['results']"
   ]
  },
  {
   "cell_type": "code",
   "execution_count": null,
   "metadata": {
    "collapsed": false
   },
   "outputs": [],
   "source": [
    "event_count = len(eventData)\n",
    "event_count"
   ]
  },
  {
   "cell_type": "code",
   "execution_count": null,
   "metadata": {
    "collapsed": false
   },
   "outputs": [],
   "source": [
    "create_event_date = [datetime.datetime.fromtimestamp(x['created']/1000) for x in eventData]\n",
    "start_event_date = [datetime.datetime.fromtimestamp(x['time']/1000) for x in eventData]\n",
    "\n",
    "create_event_day_from_group_start = [(x-group_start).days  for x in create_event_date]\n",
    "start_event_day_from_group_start = [(x-group_start).days  for x in start_event_date]\n",
    "\n",
    "len(create_event_day_from_group_start),len(start_event_day_from_group_start)"
   ]
  },
  {
   "cell_type": "code",
   "execution_count": null,
   "metadata": {
    "collapsed": false
   },
   "outputs": [],
   "source": [
    "plt.plot(range(group_age),running_total_of_members,color='g')\n",
    "for i in create_event_day_from_group_start:\n",
    "    plt.axvline(x=i,color='r', linewidth=0.3)\n",
    "for i in start_event_day_from_group_start:\n",
    "    plt.axvline(x=i,color='b', linewidth=0.3)"
   ]
  },
  {
   "cell_type": "code",
   "execution_count": null,
   "metadata": {
    "collapsed": false
   },
   "outputs": [],
   "source": [
    "members = mpatches.Patch(color='g', label='No. of members')\n",
    "event_anounce = mpatches.Patch(color='r', label='Event anounced')\n",
    "event_start = mpatches.Patch(color='b', label='Event start')\n",
    "\n",
    "plt.legend(handles=[members,event_anounce,event_start],loc=4)\n",
    "plt.show()"
   ]
  }
 ],
 "metadata": {
  "kernelspec": {
   "display_name": "Python 2",
   "language": "python",
   "name": "python2"
  },
  "language_info": {
   "codemirror_mode": {
    "name": "ipython",
    "version": 2
   },
   "file_extension": ".py",
   "mimetype": "text/x-python",
   "name": "python",
   "nbconvert_exporter": "python",
   "pygments_lexer": "ipython2",
   "version": "2.7.12"
  }
 },
 "nbformat": 4,
 "nbformat_minor": 0
}
